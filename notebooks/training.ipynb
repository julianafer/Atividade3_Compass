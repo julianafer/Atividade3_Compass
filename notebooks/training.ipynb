{
 "cells": [
  {
   "cell_type": "markdown",
   "id": "63b9f30e-b156-4586-ac9b-52741f06ee4f",
   "metadata": {},
   "source": [
    "# Configurações SageMaker"
   ]
  },
  {
   "cell_type": "code",
   "execution_count": 1,
   "id": "3cf2d2b8-17ab-4ecd-b208-0cfb77341942",
   "metadata": {},
   "outputs": [
    {
     "name": "stdout",
     "output_type": "stream",
     "text": [
      "sagemaker.config INFO - Not applying SDK defaults from location: C:\\ProgramData\\sagemaker\\sagemaker\\config.yaml\n",
      "sagemaker.config INFO - Not applying SDK defaults from location: C:\\Users\\vtrnd\\AppData\\Local\\sagemaker\\sagemaker\\config.yaml\n"
     ]
    }
   ],
   "source": [
    "import sagemaker\n",
    "import boto3\n",
    "from sagemaker import Session\n",
    "from pathlib import Path"
   ]
  },
  {
   "cell_type": "code",
   "execution_count": null,
   "id": "482ba59a-a95a-4a01-8edd-f9feeeeedf22",
   "metadata": {},
   "outputs": [],
   "source": [
    "# Define the S3 bucket and folder structure\n",
    "session = sagemaker.Session()\n",
    "bucket = \"hotel-reservations-ml\"\n",
    "subpasta_modelo = \"modelos/xgboost\"\n",
    "subpasta_dataset = \"datasets\"\n",
    "\n",
    "# Define the S3 keys for the training and test datasets\n",
    "key_train = \"hotel_reservations_train_xgboost\"\n",
    "key_test = \"hotel_reservations_test_xgboost\"\n",
    "\n",
    "# Define the IAM role with the required permissions\n",
    "role = \"arn:aws:iam::381492051491:role/role-full-access-sagemaker\"\n",
    "\n",
    "# Initialize an S3 client\n",
    "s3_client = boto3.client(\"s3\")\n",
    "\n",
    "# Construct the S3 URIs for the training and test datasets\n",
    "s3_train_data = f\"s3://{bucket}/{subpasta_dataset}/train/{key_train}\"\n",
    "s3_test_data = f\"s3://{bucket}/{subpasta_dataset}/test/{key_test}\"\n",
    "\n",
    "# Define the output location for the final model\n",
    "output_location = f\"s3://{bucket}/{subpasta_modelo}/output\"\n",
    "\n",
    "print(\"Role:\", role)\n",
    "print(\"Localização da base de treinamento: \", s3_train_data)\n",
    "print(\"Localização da base de teste: \", s3_test_data)\n",
    "print(\"Modelo final será armazenado em: \", output_location)"
   ]
  },
  {
   "cell_type": "code",
   "execution_count": null,
   "id": "f77d4946-165f-457f-a14c-b36a63d53140",
   "metadata": {},
   "outputs": [],
   "source": [
    "# Upload the training dataset CSV to S3 in binary format (accepted by SageMaker)\n",
    "import os\n",
    "\n",
    "with open(\"hotel_reservations_train_xgboost.csv\", \"rb\") as file:\n",
    "    boto3.Session().resource(\"s3\").Bucket(bucket).Object(os.path.join(subpasta_dataset, \"train\", key_train).replace(\"\\\\\", \"/\")).upload_fileobj(file)"
   ]
  },
  {
   "cell_type": "code",
   "execution_count": null,
   "id": "0eb00c99-9af8-4b6b-af2e-7a5261326163",
   "metadata": {},
   "outputs": [],
   "source": [
    "# Upload the test dataset CSV to S3 in binary format (accepted by SageMaker)\n",
    "with open(\"hotel_reservations_test_xgboost.csv\", \"rb\") as file:\n",
    "    boto3.Session().resource(\"s3\").Bucket(bucket).Object(os.path.join(subpasta_dataset, \"test\", key_test).replace(\"\\\\\", \"/\")).upload_fileobj(file)"
   ]
  },
  {
   "cell_type": "markdown",
   "id": "046bec15-1687-4e6a-ba84-1574700a5d0d",
   "metadata": {},
   "source": [
    "# Treinamento do XGBoost"
   ]
  },
  {
   "cell_type": "code",
   "execution_count": null,
   "id": "e2ea2077-4a0c-4021-9ea5-e99be8ffcb29",
   "metadata": {},
   "outputs": [],
   "source": [
    "from sagemaker import image_uris\n",
    "\n",
    "container = image_uris.retrieve(framework = \"xgboost\", region=boto3.Session().region_name, version='1.7-1')"
   ]
  },
  {
   "cell_type": "code",
   "execution_count": null,
   "id": "3898a473-e993-443f-ba87-a75aed00c57d",
   "metadata": {},
   "outputs": [],
   "source": [
    "xgboost = sagemaker.estimator.Estimator(\n",
    "    image_uri=container,\n",
    "    role=role,\n",
    "    instance_count=1,\n",
    "    instance_type=\"ml.m5.2xlarge\",\n",
    "    output_path=output_location,\n",
    "    sagemaker_session=session,\n",
    "    use_spot_instances=True,\n",
    "    max_run=3600,\n",
    "    max_wait=3600,\n",
    ")\n",
    "\n",
    "xgboost.set_hyperparameters(\n",
    "    objective='multi:softmax',\n",
    "    num_round=4000,\n",
    "    eta=0.028756943,\n",
    "    alpha=0.9974879,\n",
    "    num_class=4,\n",
    "    min_child_weight=3.8947643,\n",
    "    eval_metric=\"mlogloss\",\n",
    "    gamma=0.6307462738756113,                  \n",
    "    colsample_bytree= 0.8,           \n",
    "    max_depth= 6,                       \n",
    "    subsample=0.8,\n",
    ")\n",
    "\n",
    "train_input = sagemaker.inputs.TrainingInput(\n",
    "    s3_data=s3_train_data, content_type=\"csv\", s3_data_type=\"S3Prefix\"\n",
    ")\n",
    "validation_input = sagemaker.inputs.TrainingInput(s3_data=s3_test_data, content_type=\"csv\", s3_data_type=\"S3Prefix\")\n",
    "\n",
    "data_channels = {\"train\": train_input, \"validation\": validation_input}"
   ]
  },
  {
   "cell_type": "code",
   "execution_count": null,
   "id": "e4e9be84-5f92-4acb-88a0-4987e5ae7e6e",
   "metadata": {},
   "outputs": [],
   "source": [
    "xgboost.fit(data_channels)"
   ]
  }
 ],
 "metadata": {
  "kernelspec": {
   "display_name": "Python 3 (ipykernel)",
   "language": "python",
   "name": "python3"
  },
  "language_info": {
   "codemirror_mode": {
    "name": "ipython",
    "version": 3
   },
   "file_extension": ".py",
   "mimetype": "text/x-python",
   "name": "python",
   "nbconvert_exporter": "python",
   "pygments_lexer": "ipython3",
   "version": "3.11.7"
  }
 },
 "nbformat": 4,
 "nbformat_minor": 5
}
